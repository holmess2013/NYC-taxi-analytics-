{
 "cells": [
  {
   "cell_type": "code",
   "execution_count": 21,
   "id": "976b1f6d",
   "metadata": {},
   "outputs": [],
   "source": [
    "import duckdb"
   ]
  },
  {
   "cell_type": "code",
   "execution_count": null,
   "id": "bdb30c89",
   "metadata": {},
   "outputs": [
    {
     "data": {
      "application/vnd.jupyter.widget-view+json": {
       "model_id": "a51c439978714a5e9927cb4bb046b23c",
       "version_major": 2,
       "version_minor": 0
      },
      "text/plain": [
       "FloatProgress(value=0.0, layout=Layout(width='auto'), style=ProgressStyle(bar_color='black'))"
      ]
     },
     "metadata": {},
     "output_type": "display_data"
    },
    {
     "data": {
      "text/plain": [
       "<duckdb.duckdb.DuckDBPyConnection at 0x1a65994f0f0>"
      ]
     },
     "execution_count": 22,
     "metadata": {},
     "output_type": "execute_result"
    }
   ],
   "source": [
    "# Let's create a relational database with DuckDB from NYC yellow taxi data \n",
    "# from January 2023.\n",
    "con = duckdb.connect(\"nyc_taxi.duckdb\")\n",
    "\n",
    "con.execute(\"\"\"\n",
    "    CREATE OR REPLACE TABLE trips AS \n",
    "    SELECT * FROM read_parquet('yellow_tripdata_2023-01.parquet')\n",
    "            \"\"\")\n",
    "\n",
    "# Next, we need to add one more table into the dataset for location IDs. \n",
    "con.execute(\"\"\"\n",
    "    CREATE OR REPLACE TABLE locations AS\n",
    "    SELECT * FROM read_csv_auto('taxi_zone_lookup.csv')\n",
    "            \"\"\")\n"
   ]
  },
  {
   "cell_type": "code",
   "execution_count": 23,
   "id": "5820ab67",
   "metadata": {},
   "outputs": [
    {
     "name": "stdout",
     "output_type": "stream",
     "text": [
      "        name\n",
      "0  locations\n",
      "1      trips\n"
     ]
    }
   ],
   "source": [
    "# Let's make sure our tables are in the database.\n",
    "print(con.execute(\"\"\"\n",
    "    SHOW TABLES                  \n",
    "\"\"\").fetchdf())\n"
   ]
  },
  {
   "cell_type": "code",
   "execution_count": 24,
   "id": "8825daac",
   "metadata": {},
   "outputs": [
    {
     "name": "stdout",
     "output_type": "stream",
     "text": [
      "     LocationID        Borough                     Zone service_zone\n",
      "0             1            EWR           Newark Airport          EWR\n",
      "1             2         Queens              Jamaica Bay    Boro Zone\n",
      "2             3          Bronx  Allerton/Pelham Gardens    Boro Zone\n",
      "3             4      Manhattan            Alphabet City  Yellow Zone\n",
      "4             5  Staten Island            Arden Heights    Boro Zone\n",
      "..          ...            ...                      ...          ...\n",
      "260         261      Manhattan       World Trade Center  Yellow Zone\n",
      "261         262      Manhattan           Yorkville East  Yellow Zone\n",
      "262         263      Manhattan           Yorkville West  Yellow Zone\n",
      "263         264        Unknown                      N/A          N/A\n",
      "264         265            N/A           Outside of NYC          N/A\n",
      "\n",
      "[265 rows x 4 columns]\n"
     ]
    }
   ],
   "source": [
    "# Now, lets look at the contents of the locations table.\n",
    "print(con.execute(\"\"\"\n",
    "    SELECT * FROM locations                  \n",
    "\"\"\").fetchdf())"
   ]
  },
  {
   "cell_type": "code",
   "execution_count": 25,
   "id": "7acf5307",
   "metadata": {},
   "outputs": [
    {
     "name": "stdout",
     "output_type": "stream",
     "text": [
      "   VendorID tpep_pickup_datetime tpep_dropoff_datetime  passenger_count  \\\n",
      "0         2  2023-01-01 00:32:10   2023-01-01 00:40:36              1.0   \n",
      "1         2  2023-01-01 00:55:08   2023-01-01 01:01:27              1.0   \n",
      "2         2  2023-01-01 00:25:04   2023-01-01 00:37:49              1.0   \n",
      "\n",
      "   trip_distance  RatecodeID store_and_fwd_flag  PULocationID  DOLocationID  \\\n",
      "0           0.97         1.0                  N           161           141   \n",
      "1           1.10         1.0                  N            43           237   \n",
      "2           2.51         1.0                  N            48           238   \n",
      "\n",
      "   payment_type  fare_amount  extra  mta_tax  tip_amount  tolls_amount  \\\n",
      "0             2          9.3    1.0      0.5         0.0           0.0   \n",
      "1             1          7.9    1.0      0.5         4.0           0.0   \n",
      "2             1         14.9    1.0      0.5        15.0           0.0   \n",
      "\n",
      "   improvement_surcharge  total_amount  congestion_surcharge  airport_fee  \n",
      "0                    1.0          14.3                   2.5          0.0  \n",
      "1                    1.0          16.9                   2.5          0.0  \n",
      "2                    1.0          34.9                   2.5          0.0  \n"
     ]
    }
   ],
   "source": [
    "# Now look at the contents of the trips table. This one is massive, so only print the first 3.\n",
    "print(con.execute(\"\"\"\n",
    "    SELECT * FROM trips LIMIT 3                 \n",
    "\"\"\").fetchdf())"
   ]
  },
  {
   "cell_type": "code",
   "execution_count": 26,
   "id": "9c852773",
   "metadata": {},
   "outputs": [
    {
     "name": "stdout",
     "output_type": "stream",
     "text": [
      "   total_trips  avg_fare  avg_tip  tip_perc\n",
      "0      3066766     18.37     3.37     18.34\n"
     ]
    }
   ],
   "source": [
    "# Determine total number of trips in January 2023, the average fare price,\n",
    "# and tip amount as an absolute value and as a percentage.\n",
    "\n",
    "df = con.execute(\"\"\"\n",
    "    SELECT\n",
    "                  COUNT(*) AS total_trips,\n",
    "                  AVG(fare_amount) AS avg_fare,\n",
    "                  AVG(tip_amount) AS avg_tip,\n",
    "                  (AVG(tip_amount)/AVG(fare_amount)) * 100 AS tip_perc\n",
    "\n",
    "    FROM trips;             \n",
    "\"\"\").fetchdf()\n",
    "\n",
    "df = df.round(2)\n",
    "print(df)\n",
    "\n",
    "# Let's also save the total trips for this month. We will need this in a minute.\n",
    "total_trips = df.iloc[0,0]\n",
    "\n"
   ]
  },
  {
   "cell_type": "code",
   "execution_count": 27,
   "id": "60254460",
   "metadata": {},
   "outputs": [
    {
     "data": {
      "application/vnd.jupyter.widget-view+json": {
       "model_id": "0aa0f36e11394ebd9e636f3fb41b5cb9",
       "version_major": 2,
       "version_minor": 0
      },
      "text/plain": [
       "FloatProgress(value=0.0, layout=Layout(width='auto'), style=ProgressStyle(bar_color='black'))"
      ]
     },
     "metadata": {},
     "output_type": "display_data"
    },
    {
     "name": "stdout",
     "output_type": "stream",
     "text": [
      "Percentage of cab rides where they either entered or left Manhattan: 94.5%\n"
     ]
    }
   ],
   "source": [
    "# How many trips in January 2023 featured Manhattan as either a pickup or dropoff location?\n",
    "with open(\"man_at_all.sql\") as f:\n",
    "    query = f.read()\n",
    "df =con.execute(query).fetchdf()\n",
    "\n",
    "man_trips = len(df)\n",
    "\n",
    "print(f\"Percentage of cab rides where they either entered or left Manhattan: {round((man_trips/total_trips)*100,1)}%\")\n"
   ]
  },
  {
   "cell_type": "code",
   "execution_count": 28,
   "id": "4ebfa2af",
   "metadata": {},
   "outputs": [
    {
     "name": "stdout",
     "output_type": "stream",
     "text": [
      "Percentage of cab rides outside Manhattan: 5.5%\n"
     ]
    }
   ],
   "source": [
    "# How many were outside Manhattan?\n",
    "with open(\"outside_man.sql\") as f:\n",
    "    query = f.read()\n",
    "df =con.execute(query).fetchdf()\n",
    "\n",
    "outside_man_trips = len(df)\n",
    "print(f\"Percentage of cab rides outside Manhattan: {round((outside_man_trips/total_trips)*100,1)}%\")"
   ]
  },
  {
   "cell_type": "code",
   "execution_count": 29,
   "id": "4bc40975",
   "metadata": {},
   "outputs": [
    {
     "name": "stdout",
     "output_type": "stream",
     "text": [
      "Percentage of cab rides inside Manhattan: 82.9%\n"
     ]
    }
   ],
   "source": [
    "# How many were inside Manhattan?\n",
    "with open(\"inside_man.sql\") as f:\n",
    "    query = f.read()\n",
    "df =con.execute(query).fetchdf()\n",
    "\n",
    "inside_man_trips = len(df)\n",
    "print(f\"Percentage of cab rides inside Manhattan: {round((inside_man_trips/total_trips)*100,1)}%\")"
   ]
  }
 ],
 "metadata": {
  "kernelspec": {
   "display_name": "tf-gnn",
   "language": "python",
   "name": "python3"
  },
  "language_info": {
   "codemirror_mode": {
    "name": "ipython",
    "version": 3
   },
   "file_extension": ".py",
   "mimetype": "text/x-python",
   "name": "python",
   "nbconvert_exporter": "python",
   "pygments_lexer": "ipython3",
   "version": "3.10.13"
  }
 },
 "nbformat": 4,
 "nbformat_minor": 5
}
